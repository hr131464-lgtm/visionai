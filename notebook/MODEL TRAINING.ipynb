{
 "cells": [
  {
   "cell_type": "code",
   "execution_count": 1,
   "metadata": {},
   "outputs": [],
   "source": [
    "import pandas as pd \n",
    "import numpy as np \n",
    "import seaborn as sns\n",
    "import matplotlib.pyplot as plt \n",
    "%matplotlib inline\n",
    "import warnings\n",
    "warnings.filterwarnings('ignore')"
   ]
  },
  {
   "cell_type": "code",
   "execution_count": 2,
   "metadata": {},
   "outputs": [],
   "source": [
    "X=pd.read_csv(\"D:/visionai/notebook/new_df.csv\")"
   ]
  },
  {
   "cell_type": "code",
   "execution_count": 3,
   "metadata": {},
   "outputs": [
    {
     "data": {
      "text/html": [
       "<div>\n",
       "<style scoped>\n",
       "    .dataframe tbody tr th:only-of-type {\n",
       "        vertical-align: middle;\n",
       "    }\n",
       "\n",
       "    .dataframe tbody tr th {\n",
       "        vertical-align: top;\n",
       "    }\n",
       "\n",
       "    .dataframe thead th {\n",
       "        text-align: right;\n",
       "    }\n",
       "</style>\n",
       "<table border=\"1\" class=\"dataframe\">\n",
       "  <thead>\n",
       "    <tr style=\"text-align: right;\">\n",
       "      <th></th>\n",
       "      <th>ruptureStatus_encoded</th>\n",
       "      <th>aneurysmLocation_encoded</th>\n",
       "      <th>bifurcationAngleOutOfPlane</th>\n",
       "      <th>maxTorsion</th>\n",
       "      <th>tortuosity</th>\n",
       "      <th>neckVesselAngle</th>\n",
       "      <th>age</th>\n",
       "      <th>aneurysmType_encoded</th>\n",
       "      <th>ostiumShapeFactor</th>\n",
       "      <th>maxCurvature</th>\n",
       "    </tr>\n",
       "  </thead>\n",
       "  <tbody>\n",
       "    <tr>\n",
       "      <th>0</th>\n",
       "      <td>1</td>\n",
       "      <td>2</td>\n",
       "      <td>4.719235</td>\n",
       "      <td>3.218984</td>\n",
       "      <td>0.682769</td>\n",
       "      <td>42.579274</td>\n",
       "      <td>53</td>\n",
       "      <td>0</td>\n",
       "      <td>0.677545</td>\n",
       "      <td>0.513167</td>\n",
       "    </tr>\n",
       "    <tr>\n",
       "      <th>1</th>\n",
       "      <td>1</td>\n",
       "      <td>2</td>\n",
       "      <td>15.753911</td>\n",
       "      <td>5.330711</td>\n",
       "      <td>1.153133</td>\n",
       "      <td>84.077789</td>\n",
       "      <td>35</td>\n",
       "      <td>0</td>\n",
       "      <td>0.754575</td>\n",
       "      <td>0.532819</td>\n",
       "    </tr>\n",
       "    <tr>\n",
       "      <th>2</th>\n",
       "      <td>1</td>\n",
       "      <td>2</td>\n",
       "      <td>9.378066</td>\n",
       "      <td>3.393943</td>\n",
       "      <td>0.804790</td>\n",
       "      <td>43.969651</td>\n",
       "      <td>43</td>\n",
       "      <td>1</td>\n",
       "      <td>0.727851</td>\n",
       "      <td>0.299136</td>\n",
       "    </tr>\n",
       "    <tr>\n",
       "      <th>3</th>\n",
       "      <td>1</td>\n",
       "      <td>2</td>\n",
       "      <td>27.053597</td>\n",
       "      <td>5.385147</td>\n",
       "      <td>0.837999</td>\n",
       "      <td>39.771392</td>\n",
       "      <td>60</td>\n",
       "      <td>1</td>\n",
       "      <td>0.659007</td>\n",
       "      <td>0.296743</td>\n",
       "    </tr>\n",
       "    <tr>\n",
       "      <th>4</th>\n",
       "      <td>0</td>\n",
       "      <td>2</td>\n",
       "      <td>23.284114</td>\n",
       "      <td>8.852139</td>\n",
       "      <td>0.548677</td>\n",
       "      <td>60.026682</td>\n",
       "      <td>26</td>\n",
       "      <td>0</td>\n",
       "      <td>0.701360</td>\n",
       "      <td>0.355401</td>\n",
       "    </tr>\n",
       "    <tr>\n",
       "      <th>...</th>\n",
       "      <td>...</td>\n",
       "      <td>...</td>\n",
       "      <td>...</td>\n",
       "      <td>...</td>\n",
       "      <td>...</td>\n",
       "      <td>...</td>\n",
       "      <td>...</td>\n",
       "      <td>...</td>\n",
       "      <td>...</td>\n",
       "      <td>...</td>\n",
       "    </tr>\n",
       "    <tr>\n",
       "      <th>98</th>\n",
       "      <td>1</td>\n",
       "      <td>1</td>\n",
       "      <td>24.376264</td>\n",
       "      <td>206.185748</td>\n",
       "      <td>0.030128</td>\n",
       "      <td>19.934197</td>\n",
       "      <td>43</td>\n",
       "      <td>1</td>\n",
       "      <td>0.780842</td>\n",
       "      <td>0.100354</td>\n",
       "    </tr>\n",
       "    <tr>\n",
       "      <th>99</th>\n",
       "      <td>0</td>\n",
       "      <td>1</td>\n",
       "      <td>31.984847</td>\n",
       "      <td>369.150248</td>\n",
       "      <td>0.004633</td>\n",
       "      <td>22.590986</td>\n",
       "      <td>67</td>\n",
       "      <td>1</td>\n",
       "      <td>0.822880</td>\n",
       "      <td>0.122552</td>\n",
       "    </tr>\n",
       "    <tr>\n",
       "      <th>100</th>\n",
       "      <td>0</td>\n",
       "      <td>2</td>\n",
       "      <td>17.519173</td>\n",
       "      <td>137.867462</td>\n",
       "      <td>0.660796</td>\n",
       "      <td>77.483471</td>\n",
       "      <td>84</td>\n",
       "      <td>0</td>\n",
       "      <td>0.769906</td>\n",
       "      <td>0.530284</td>\n",
       "    </tr>\n",
       "    <tr>\n",
       "      <th>101</th>\n",
       "      <td>0</td>\n",
       "      <td>3</td>\n",
       "      <td>15.662535</td>\n",
       "      <td>67.053940</td>\n",
       "      <td>0.001915</td>\n",
       "      <td>14.140771</td>\n",
       "      <td>59</td>\n",
       "      <td>1</td>\n",
       "      <td>0.785689</td>\n",
       "      <td>0.038822</td>\n",
       "    </tr>\n",
       "    <tr>\n",
       "      <th>102</th>\n",
       "      <td>1</td>\n",
       "      <td>3</td>\n",
       "      <td>20.356321</td>\n",
       "      <td>645.608540</td>\n",
       "      <td>0.065523</td>\n",
       "      <td>64.916178</td>\n",
       "      <td>42</td>\n",
       "      <td>1</td>\n",
       "      <td>0.791146</td>\n",
       "      <td>0.187212</td>\n",
       "    </tr>\n",
       "  </tbody>\n",
       "</table>\n",
       "<p>103 rows × 10 columns</p>\n",
       "</div>"
      ],
      "text/plain": [
       "     ruptureStatus_encoded  aneurysmLocation_encoded  \\\n",
       "0                        1                         2   \n",
       "1                        1                         2   \n",
       "2                        1                         2   \n",
       "3                        1                         2   \n",
       "4                        0                         2   \n",
       "..                     ...                       ...   \n",
       "98                       1                         1   \n",
       "99                       0                         1   \n",
       "100                      0                         2   \n",
       "101                      0                         3   \n",
       "102                      1                         3   \n",
       "\n",
       "     bifurcationAngleOutOfPlane  maxTorsion  tortuosity  neckVesselAngle  age  \\\n",
       "0                      4.719235    3.218984    0.682769        42.579274   53   \n",
       "1                     15.753911    5.330711    1.153133        84.077789   35   \n",
       "2                      9.378066    3.393943    0.804790        43.969651   43   \n",
       "3                     27.053597    5.385147    0.837999        39.771392   60   \n",
       "4                     23.284114    8.852139    0.548677        60.026682   26   \n",
       "..                          ...         ...         ...              ...  ...   \n",
       "98                    24.376264  206.185748    0.030128        19.934197   43   \n",
       "99                    31.984847  369.150248    0.004633        22.590986   67   \n",
       "100                   17.519173  137.867462    0.660796        77.483471   84   \n",
       "101                   15.662535   67.053940    0.001915        14.140771   59   \n",
       "102                   20.356321  645.608540    0.065523        64.916178   42   \n",
       "\n",
       "     aneurysmType_encoded  ostiumShapeFactor  maxCurvature  \n",
       "0                       0           0.677545      0.513167  \n",
       "1                       0           0.754575      0.532819  \n",
       "2                       1           0.727851      0.299136  \n",
       "3                       1           0.659007      0.296743  \n",
       "4                       0           0.701360      0.355401  \n",
       "..                    ...                ...           ...  \n",
       "98                      1           0.780842      0.100354  \n",
       "99                      1           0.822880      0.122552  \n",
       "100                     0           0.769906      0.530284  \n",
       "101                     1           0.785689      0.038822  \n",
       "102                     1           0.791146      0.187212  \n",
       "\n",
       "[103 rows x 10 columns]"
      ]
     },
     "execution_count": 3,
     "metadata": {},
     "output_type": "execute_result"
    }
   ],
   "source": [
    "X"
   ]
  },
  {
   "cell_type": "code",
   "execution_count": 4,
   "metadata": {},
   "outputs": [],
   "source": [
    "y=pd.read_csv(\"D:/visionai/notebook/y.csv\")"
   ]
  },
  {
   "cell_type": "code",
   "execution_count": 5,
   "metadata": {},
   "outputs": [
    {
     "data": {
      "text/html": [
       "<div>\n",
       "<style scoped>\n",
       "    .dataframe tbody tr th:only-of-type {\n",
       "        vertical-align: middle;\n",
       "    }\n",
       "\n",
       "    .dataframe tbody tr th {\n",
       "        vertical-align: top;\n",
       "    }\n",
       "\n",
       "    .dataframe thead th {\n",
       "        text-align: right;\n",
       "    }\n",
       "</style>\n",
       "<table border=\"1\" class=\"dataframe\">\n",
       "  <thead>\n",
       "    <tr style=\"text-align: right;\">\n",
       "      <th></th>\n",
       "      <th>multipleAneurysms_encoded</th>\n",
       "    </tr>\n",
       "  </thead>\n",
       "  <tbody>\n",
       "    <tr>\n",
       "      <th>0</th>\n",
       "      <td>0</td>\n",
       "    </tr>\n",
       "    <tr>\n",
       "      <th>1</th>\n",
       "      <td>0</td>\n",
       "    </tr>\n",
       "    <tr>\n",
       "      <th>2</th>\n",
       "      <td>0</td>\n",
       "    </tr>\n",
       "    <tr>\n",
       "      <th>3</th>\n",
       "      <td>1</td>\n",
       "    </tr>\n",
       "    <tr>\n",
       "      <th>4</th>\n",
       "      <td>0</td>\n",
       "    </tr>\n",
       "  </tbody>\n",
       "</table>\n",
       "</div>"
      ],
      "text/plain": [
       "   multipleAneurysms_encoded\n",
       "0                          0\n",
       "1                          0\n",
       "2                          0\n",
       "3                          1\n",
       "4                          0"
      ]
     },
     "execution_count": 5,
     "metadata": {},
     "output_type": "execute_result"
    }
   ],
   "source": [
    "y.head()"
   ]
  },
  {
   "cell_type": "code",
   "execution_count": 6,
   "metadata": {},
   "outputs": [],
   "source": [
    "from sklearn.model_selection import train_test_split\n",
    "X_train,X_test,y_train,y_test=train_test_split(X,y,test_size=0.25,random_state=42)"
   ]
  },
  {
   "cell_type": "code",
   "execution_count": 7,
   "metadata": {},
   "outputs": [
    {
     "data": {
      "text/html": [
       "<div>\n",
       "<style scoped>\n",
       "    .dataframe tbody tr th:only-of-type {\n",
       "        vertical-align: middle;\n",
       "    }\n",
       "\n",
       "    .dataframe tbody tr th {\n",
       "        vertical-align: top;\n",
       "    }\n",
       "\n",
       "    .dataframe thead th {\n",
       "        text-align: right;\n",
       "    }\n",
       "</style>\n",
       "<table border=\"1\" class=\"dataframe\">\n",
       "  <thead>\n",
       "    <tr style=\"text-align: right;\">\n",
       "      <th></th>\n",
       "      <th>ruptureStatus_encoded</th>\n",
       "      <th>aneurysmLocation_encoded</th>\n",
       "      <th>bifurcationAngleOutOfPlane</th>\n",
       "      <th>maxTorsion</th>\n",
       "      <th>tortuosity</th>\n",
       "      <th>neckVesselAngle</th>\n",
       "      <th>age</th>\n",
       "      <th>aneurysmType_encoded</th>\n",
       "      <th>ostiumShapeFactor</th>\n",
       "      <th>maxCurvature</th>\n",
       "    </tr>\n",
       "  </thead>\n",
       "  <tbody>\n",
       "    <tr>\n",
       "      <th>0</th>\n",
       "      <td>1</td>\n",
       "      <td>2</td>\n",
       "      <td>4.719235</td>\n",
       "      <td>3.218984</td>\n",
       "      <td>0.682769</td>\n",
       "      <td>42.579274</td>\n",
       "      <td>53</td>\n",
       "      <td>0</td>\n",
       "      <td>0.677545</td>\n",
       "      <td>0.513167</td>\n",
       "    </tr>\n",
       "    <tr>\n",
       "      <th>1</th>\n",
       "      <td>1</td>\n",
       "      <td>2</td>\n",
       "      <td>15.753911</td>\n",
       "      <td>5.330711</td>\n",
       "      <td>1.153133</td>\n",
       "      <td>84.077789</td>\n",
       "      <td>35</td>\n",
       "      <td>0</td>\n",
       "      <td>0.754575</td>\n",
       "      <td>0.532819</td>\n",
       "    </tr>\n",
       "    <tr>\n",
       "      <th>2</th>\n",
       "      <td>1</td>\n",
       "      <td>2</td>\n",
       "      <td>9.378066</td>\n",
       "      <td>3.393943</td>\n",
       "      <td>0.804790</td>\n",
       "      <td>43.969651</td>\n",
       "      <td>43</td>\n",
       "      <td>1</td>\n",
       "      <td>0.727851</td>\n",
       "      <td>0.299136</td>\n",
       "    </tr>\n",
       "    <tr>\n",
       "      <th>3</th>\n",
       "      <td>1</td>\n",
       "      <td>2</td>\n",
       "      <td>27.053597</td>\n",
       "      <td>5.385147</td>\n",
       "      <td>0.837999</td>\n",
       "      <td>39.771392</td>\n",
       "      <td>60</td>\n",
       "      <td>1</td>\n",
       "      <td>0.659007</td>\n",
       "      <td>0.296743</td>\n",
       "    </tr>\n",
       "    <tr>\n",
       "      <th>4</th>\n",
       "      <td>0</td>\n",
       "      <td>2</td>\n",
       "      <td>23.284114</td>\n",
       "      <td>8.852139</td>\n",
       "      <td>0.548677</td>\n",
       "      <td>60.026682</td>\n",
       "      <td>26</td>\n",
       "      <td>0</td>\n",
       "      <td>0.701360</td>\n",
       "      <td>0.355401</td>\n",
       "    </tr>\n",
       "    <tr>\n",
       "      <th>...</th>\n",
       "      <td>...</td>\n",
       "      <td>...</td>\n",
       "      <td>...</td>\n",
       "      <td>...</td>\n",
       "      <td>...</td>\n",
       "      <td>...</td>\n",
       "      <td>...</td>\n",
       "      <td>...</td>\n",
       "      <td>...</td>\n",
       "      <td>...</td>\n",
       "    </tr>\n",
       "    <tr>\n",
       "      <th>98</th>\n",
       "      <td>1</td>\n",
       "      <td>1</td>\n",
       "      <td>24.376264</td>\n",
       "      <td>206.185748</td>\n",
       "      <td>0.030128</td>\n",
       "      <td>19.934197</td>\n",
       "      <td>43</td>\n",
       "      <td>1</td>\n",
       "      <td>0.780842</td>\n",
       "      <td>0.100354</td>\n",
       "    </tr>\n",
       "    <tr>\n",
       "      <th>99</th>\n",
       "      <td>0</td>\n",
       "      <td>1</td>\n",
       "      <td>31.984847</td>\n",
       "      <td>369.150248</td>\n",
       "      <td>0.004633</td>\n",
       "      <td>22.590986</td>\n",
       "      <td>67</td>\n",
       "      <td>1</td>\n",
       "      <td>0.822880</td>\n",
       "      <td>0.122552</td>\n",
       "    </tr>\n",
       "    <tr>\n",
       "      <th>100</th>\n",
       "      <td>0</td>\n",
       "      <td>2</td>\n",
       "      <td>17.519173</td>\n",
       "      <td>137.867462</td>\n",
       "      <td>0.660796</td>\n",
       "      <td>77.483471</td>\n",
       "      <td>84</td>\n",
       "      <td>0</td>\n",
       "      <td>0.769906</td>\n",
       "      <td>0.530284</td>\n",
       "    </tr>\n",
       "    <tr>\n",
       "      <th>101</th>\n",
       "      <td>0</td>\n",
       "      <td>3</td>\n",
       "      <td>15.662535</td>\n",
       "      <td>67.053940</td>\n",
       "      <td>0.001915</td>\n",
       "      <td>14.140771</td>\n",
       "      <td>59</td>\n",
       "      <td>1</td>\n",
       "      <td>0.785689</td>\n",
       "      <td>0.038822</td>\n",
       "    </tr>\n",
       "    <tr>\n",
       "      <th>102</th>\n",
       "      <td>1</td>\n",
       "      <td>3</td>\n",
       "      <td>20.356321</td>\n",
       "      <td>645.608540</td>\n",
       "      <td>0.065523</td>\n",
       "      <td>64.916178</td>\n",
       "      <td>42</td>\n",
       "      <td>1</td>\n",
       "      <td>0.791146</td>\n",
       "      <td>0.187212</td>\n",
       "    </tr>\n",
       "  </tbody>\n",
       "</table>\n",
       "<p>103 rows × 10 columns</p>\n",
       "</div>"
      ],
      "text/plain": [
       "     ruptureStatus_encoded  aneurysmLocation_encoded  \\\n",
       "0                        1                         2   \n",
       "1                        1                         2   \n",
       "2                        1                         2   \n",
       "3                        1                         2   \n",
       "4                        0                         2   \n",
       "..                     ...                       ...   \n",
       "98                       1                         1   \n",
       "99                       0                         1   \n",
       "100                      0                         2   \n",
       "101                      0                         3   \n",
       "102                      1                         3   \n",
       "\n",
       "     bifurcationAngleOutOfPlane  maxTorsion  tortuosity  neckVesselAngle  age  \\\n",
       "0                      4.719235    3.218984    0.682769        42.579274   53   \n",
       "1                     15.753911    5.330711    1.153133        84.077789   35   \n",
       "2                      9.378066    3.393943    0.804790        43.969651   43   \n",
       "3                     27.053597    5.385147    0.837999        39.771392   60   \n",
       "4                     23.284114    8.852139    0.548677        60.026682   26   \n",
       "..                          ...         ...         ...              ...  ...   \n",
       "98                    24.376264  206.185748    0.030128        19.934197   43   \n",
       "99                    31.984847  369.150248    0.004633        22.590986   67   \n",
       "100                   17.519173  137.867462    0.660796        77.483471   84   \n",
       "101                   15.662535   67.053940    0.001915        14.140771   59   \n",
       "102                   20.356321  645.608540    0.065523        64.916178   42   \n",
       "\n",
       "     aneurysmType_encoded  ostiumShapeFactor  maxCurvature  \n",
       "0                       0           0.677545      0.513167  \n",
       "1                       0           0.754575      0.532819  \n",
       "2                       1           0.727851      0.299136  \n",
       "3                       1           0.659007      0.296743  \n",
       "4                       0           0.701360      0.355401  \n",
       "..                    ...                ...           ...  \n",
       "98                      1           0.780842      0.100354  \n",
       "99                      1           0.822880      0.122552  \n",
       "100                     0           0.769906      0.530284  \n",
       "101                     1           0.785689      0.038822  \n",
       "102                     1           0.791146      0.187212  \n",
       "\n",
       "[103 rows x 10 columns]"
      ]
     },
     "execution_count": 7,
     "metadata": {},
     "output_type": "execute_result"
    }
   ],
   "source": [
    "X"
   ]
  },
  {
   "cell_type": "code",
   "execution_count": 8,
   "metadata": {},
   "outputs": [
    {
     "name": "stdout",
     "output_type": "stream",
     "text": [
      "              precision    recall  f1-score   support\n",
      "\n",
      "           0       0.92      0.92      0.92        24\n",
      "           1       0.00      0.00      0.00         2\n",
      "\n",
      "    accuracy                           0.85        26\n",
      "   macro avg       0.46      0.46      0.46        26\n",
      "weighted avg       0.85      0.85      0.85        26\n",
      "\n",
      "[[22  2]\n",
      " [ 2  0]]\n",
      "Accuracy: 0.8461538461538461\n"
     ]
    }
   ],
   "source": [
    "from sklearn.metrics import classification_report, confusion_matrix, accuracy_score\n",
    "from sklearn.linear_model import LogisticRegression\n",
    "\n",
    "\n",
    "model = LogisticRegression()\n",
    "model.fit(X_train, y_train) \n",
    "\n",
    "y_pred = model.predict(X_test)\n",
    "\n",
    "\n",
    "print(classification_report(y_test, y_pred))\n",
    "\n",
    "\n",
    "print(confusion_matrix(y_test, y_pred))\n",
    "\n",
    "\n",
    "print(f\"Accuracy: {accuracy_score(y_test, y_pred)}\")\n"
   ]
  },
  {
   "cell_type": "code",
   "execution_count": 9,
   "metadata": {},
   "outputs": [
    {
     "name": "stdout",
     "output_type": "stream",
     "text": [
      "Training LogisticRegression...\n",
      "LogisticRegression Accuracy: 0.8461538461538461\n",
      "              precision    recall  f1-score   support\n",
      "\n",
      "           0       0.92      0.92      0.92        24\n",
      "           1       0.00      0.00      0.00         2\n",
      "\n",
      "    accuracy                           0.85        26\n",
      "   macro avg       0.46      0.46      0.46        26\n",
      "weighted avg       0.85      0.85      0.85        26\n",
      "\n",
      "[[22  2]\n",
      " [ 2  0]]\n",
      "------------------------------\n",
      "Training DecisionTreeClassifier...\n",
      "DecisionTreeClassifier Accuracy: 0.6923076923076923\n",
      "              precision    recall  f1-score   support\n",
      "\n",
      "           0       0.94      0.71      0.81        24\n",
      "           1       0.12      0.50      0.20         2\n",
      "\n",
      "    accuracy                           0.69        26\n",
      "   macro avg       0.53      0.60      0.50        26\n",
      "weighted avg       0.88      0.69      0.76        26\n",
      "\n",
      "[[17  7]\n",
      " [ 1  1]]\n",
      "------------------------------\n",
      "Training RandomForestClassifier...\n",
      "RandomForestClassifier Accuracy: 0.9230769230769231\n",
      "              precision    recall  f1-score   support\n",
      "\n",
      "           0       0.92      1.00      0.96        24\n",
      "           1       0.00      0.00      0.00         2\n",
      "\n",
      "    accuracy                           0.92        26\n",
      "   macro avg       0.46      0.50      0.48        26\n",
      "weighted avg       0.85      0.92      0.89        26\n",
      "\n",
      "[[24  0]\n",
      " [ 2  0]]\n",
      "------------------------------\n",
      "Training SVC...\n",
      "SVC Accuracy: 0.9230769230769231\n",
      "              precision    recall  f1-score   support\n",
      "\n",
      "           0       0.92      1.00      0.96        24\n",
      "           1       0.00      0.00      0.00         2\n",
      "\n",
      "    accuracy                           0.92        26\n",
      "   macro avg       0.46      0.50      0.48        26\n",
      "weighted avg       0.85      0.92      0.89        26\n",
      "\n",
      "[[24  0]\n",
      " [ 2  0]]\n",
      "------------------------------\n",
      "Training KNeighborsClassifier...\n",
      "KNeighborsClassifier Accuracy: 0.9230769230769231\n",
      "              precision    recall  f1-score   support\n",
      "\n",
      "           0       0.92      1.00      0.96        24\n",
      "           1       0.00      0.00      0.00         2\n",
      "\n",
      "    accuracy                           0.92        26\n",
      "   macro avg       0.46      0.50      0.48        26\n",
      "weighted avg       0.85      0.92      0.89        26\n",
      "\n",
      "[[24  0]\n",
      " [ 2  0]]\n",
      "------------------------------\n",
      "Training GaussianNB...\n",
      "GaussianNB Accuracy: 0.9230769230769231\n",
      "              precision    recall  f1-score   support\n",
      "\n",
      "           0       0.96      0.96      0.96        24\n",
      "           1       0.50      0.50      0.50         2\n",
      "\n",
      "    accuracy                           0.92        26\n",
      "   macro avg       0.73      0.73      0.73        26\n",
      "weighted avg       0.92      0.92      0.92        26\n",
      "\n",
      "[[23  1]\n",
      " [ 1  1]]\n",
      "------------------------------\n"
     ]
    }
   ],
   "source": [
    "from sklearn.preprocessing import StandardScaler, LabelEncoder\n",
    "from sklearn.linear_model import LogisticRegression\n",
    "from sklearn.tree import DecisionTreeClassifier\n",
    "from sklearn.ensemble import RandomForestClassifier\n",
    "from sklearn.svm import SVC\n",
    "from sklearn.neighbors import KNeighborsClassifier\n",
    "from sklearn.naive_bayes import GaussianNB\n",
    "from sklearn.metrics import classification_report, confusion_matrix, accuracy_score\n",
    "\n",
    "\n",
    "\n",
    "\n",
    "\n",
    "\n",
    "\n",
    "# Define a list of classifiers\n",
    "classifiers = [\n",
    "    LogisticRegression(),\n",
    "    DecisionTreeClassifier(),\n",
    "    RandomForestClassifier(),\n",
    "    SVC(),\n",
    "    KNeighborsClassifier(),\n",
    "    GaussianNB()\n",
    "]\n",
    "\n",
    "# Train and evaluate each classifier\n",
    "for clf in classifiers:\n",
    "    clf_name = clf.__class__.__name__\n",
    "    print(f\"Training {clf_name}...\")\n",
    "    clf.fit(X_train, y_train)\n",
    "    y_pred = clf.predict(X_test)\n",
    "    accuracy = accuracy_score(y_test, y_pred)\n",
    "    print(f\"{clf_name} Accuracy: {accuracy}\")\n",
    "    print(classification_report(y_test,y_pred))\n",
    "    print(confusion_matrix(y_test,y_pred))\n",
    "    print(\"-\" * 30)\n"
   ]
  },
  {
   "cell_type": "code",
   "execution_count": 11,
   "metadata": {},
   "outputs": [
    {
     "data": {
      "text/plain": [
       "<Axes: >"
      ]
     },
     "execution_count": 11,
     "metadata": {},
     "output_type": "execute_result"
    },
    {
     "data": {
      "image/png": "[encoded data removed]",
      "text/plain": [
       "<Figure size 640x480 with 1 Axes>"
      ]
     },
     "metadata": {},
     "output_type": "display_data"
    }
   ],
   "source": [
    "sns.boxplot(X)"
   ]
  },
  {
   "cell_type": "code",
   "execution_count": 12,
   "metadata": {},
   "outputs": [],
   "source": [
    "minimum,Q1,median,Q3,maximum=np.percentile(X['bifurcationAngleOutOfPlane'],[0,25,50,75,100])\n"
   ]
  },
  {
   "cell_type": "code",
   "execution_count": 13,
   "metadata": {},
   "outputs": [
    {
     "data": {
      "text/plain": [
       "np.float64(12.493163084999999)"
      ]
     },
     "execution_count": 13,
     "metadata": {},
     "output_type": "execute_result"
    }
   ],
   "source": [
    "Q1"
   ]
  },
  {
   "cell_type": "code",
   "execution_count": 14,
   "metadata": {},
   "outputs": [
    {
     "data": {
      "text/plain": [
       "np.float64(26.780391195)"
      ]
     },
     "execution_count": 14,
     "metadata": {},
     "output_type": "execute_result"
    }
   ],
   "source": [
    "Q3"
   ]
  },
  {
   "cell_type": "code",
   "execution_count": 15,
   "metadata": {},
   "outputs": [
    {
     "data": {
      "text/plain": [
       "np.float64(14.287228110000001)"
      ]
     },
     "execution_count": 15,
     "metadata": {},
     "output_type": "execute_result"
    }
   ],
   "source": [
    "IQR=Q3-Q1\n",
    "IQR"
   ]
  },
  {
   "cell_type": "code",
   "execution_count": 16,
   "metadata": {},
   "outputs": [
    {
     "data": {
      "text/plain": [
       "np.float64(-8.937679080000002)"
      ]
     },
     "execution_count": 16,
     "metadata": {},
     "output_type": "execute_result"
    }
   ],
   "source": [
    "lower_fench=Q1-1.5*IQR\n",
    "lower_fench"
   ]
  },
  {
   "cell_type": "code",
   "execution_count": 17,
   "metadata": {},
   "outputs": [
    {
     "data": {
      "text/plain": [
       "np.float64(48.21123336)"
      ]
     },
     "execution_count": 17,
     "metadata": {},
     "output_type": "execute_result"
    }
   ],
   "source": [
    "higher_fench=Q3+1.5*IQR\n",
    "higher_fench"
   ]
  },
  {
   "cell_type": "code",
   "execution_count": 18,
   "metadata": {},
   "outputs": [],
   "source": [
    "X = X[(X['bifurcationAngleOutOfPlane'] >= lower_fench) & \n",
    "                (X['bifurcationAngleOutOfPlane'] <= higher_fench)]"
   ]
  },
  {
   "cell_type": "code",
   "execution_count": 19,
   "metadata": {},
   "outputs": [
    {
     "data": {
      "text/plain": [
       "(103, 10)"
      ]
     },
     "execution_count": 19,
     "metadata": {},
     "output_type": "execute_result"
    }
   ],
   "source": [
    "X.shape"
   ]
  },
  {
   "cell_type": "code",
   "execution_count": 20,
   "metadata": {},
   "outputs": [
    {
     "data": {
      "text/html": [
       "<div>\n",
       "<style scoped>\n",
       "    .dataframe tbody tr th:only-of-type {\n",
       "        vertical-align: middle;\n",
       "    }\n",
       "\n",
       "    .dataframe tbody tr th {\n",
       "        vertical-align: top;\n",
       "    }\n",
       "\n",
       "    .dataframe thead th {\n",
       "        text-align: right;\n",
       "    }\n",
       "</style>\n",
       "<table border=\"1\" class=\"dataframe\">\n",
       "  <thead>\n",
       "    <tr style=\"text-align: right;\">\n",
       "      <th></th>\n",
       "      <th>multipleAneurysms_encoded</th>\n",
       "    </tr>\n",
       "  </thead>\n",
       "  <tbody>\n",
       "    <tr>\n",
       "      <th>0</th>\n",
       "      <td>0</td>\n",
       "    </tr>\n",
       "    <tr>\n",
       "      <th>1</th>\n",
       "      <td>0</td>\n",
       "    </tr>\n",
       "    <tr>\n",
       "      <th>2</th>\n",
       "      <td>0</td>\n",
       "    </tr>\n",
       "    <tr>\n",
       "      <th>3</th>\n",
       "      <td>1</td>\n",
       "    </tr>\n",
       "    <tr>\n",
       "      <th>4</th>\n",
       "      <td>0</td>\n",
       "    </tr>\n",
       "    <tr>\n",
       "      <th>...</th>\n",
       "      <td>...</td>\n",
       "    </tr>\n",
       "    <tr>\n",
       "      <th>98</th>\n",
       "      <td>0</td>\n",
       "    </tr>\n",
       "    <tr>\n",
       "      <th>99</th>\n",
       "      <td>0</td>\n",
       "    </tr>\n",
       "    <tr>\n",
       "      <th>100</th>\n",
       "      <td>0</td>\n",
       "    </tr>\n",
       "    <tr>\n",
       "      <th>101</th>\n",
       "      <td>0</td>\n",
       "    </tr>\n",
       "    <tr>\n",
       "      <th>102</th>\n",
       "      <td>0</td>\n",
       "    </tr>\n",
       "  </tbody>\n",
       "</table>\n",
       "<p>103 rows × 1 columns</p>\n",
       "</div>"
      ],
      "text/plain": [
       "     multipleAneurysms_encoded\n",
       "0                            0\n",
       "1                            0\n",
       "2                            0\n",
       "3                            1\n",
       "4                            0\n",
       "..                         ...\n",
       "98                           0\n",
       "99                           0\n",
       "100                          0\n",
       "101                          0\n",
       "102                          0\n",
       "\n",
       "[103 rows x 1 columns]"
      ]
     },
     "execution_count": 20,
     "metadata": {},
     "output_type": "execute_result"
    }
   ],
   "source": [
    "y"
   ]
  },
  {
   "cell_type": "code",
   "execution_count": 23,
   "metadata": {},
   "outputs": [
    {
     "data": {
      "text/html": [
       "<div>\n",
       "<style scoped>\n",
       "    .dataframe tbody tr th:only-of-type {\n",
       "        vertical-align: middle;\n",
       "    }\n",
       "\n",
       "    .dataframe tbody tr th {\n",
       "        vertical-align: top;\n",
       "    }\n",
       "\n",
       "    .dataframe thead th {\n",
       "        text-align: right;\n",
       "    }\n",
       "</style>\n",
       "<table border=\"1\" class=\"dataframe\">\n",
       "  <thead>\n",
       "    <tr style=\"text-align: right;\">\n",
       "      <th></th>\n",
       "      <th>ruptureStatus_encoded</th>\n",
       "      <th>aneurysmLocation_encoded</th>\n",
       "      <th>bifurcationAngleOutOfPlane</th>\n",
       "      <th>maxTorsion</th>\n",
       "      <th>tortuosity</th>\n",
       "      <th>neckVesselAngle</th>\n",
       "      <th>age</th>\n",
       "      <th>aneurysmType_encoded</th>\n",
       "      <th>ostiumShapeFactor</th>\n",
       "      <th>maxCurvature</th>\n",
       "    </tr>\n",
       "  </thead>\n",
       "  <tbody>\n",
       "    <tr>\n",
       "      <th>0</th>\n",
       "      <td>1</td>\n",
       "      <td>2</td>\n",
       "      <td>4.719235</td>\n",
       "      <td>3.218984</td>\n",
       "      <td>0.682769</td>\n",
       "      <td>42.579274</td>\n",
       "      <td>53</td>\n",
       "      <td>0</td>\n",
       "      <td>0.677545</td>\n",
       "      <td>0.513167</td>\n",
       "    </tr>\n",
       "    <tr>\n",
       "      <th>1</th>\n",
       "      <td>1</td>\n",
       "      <td>2</td>\n",
       "      <td>15.753911</td>\n",
       "      <td>5.330711</td>\n",
       "      <td>1.153133</td>\n",
       "      <td>84.077789</td>\n",
       "      <td>35</td>\n",
       "      <td>0</td>\n",
       "      <td>0.754575</td>\n",
       "      <td>0.532819</td>\n",
       "    </tr>\n",
       "    <tr>\n",
       "      <th>2</th>\n",
       "      <td>1</td>\n",
       "      <td>2</td>\n",
       "      <td>9.378066</td>\n",
       "      <td>3.393943</td>\n",
       "      <td>0.804790</td>\n",
       "      <td>43.969651</td>\n",
       "      <td>43</td>\n",
       "      <td>1</td>\n",
       "      <td>0.727851</td>\n",
       "      <td>0.299136</td>\n",
       "    </tr>\n",
       "    <tr>\n",
       "      <th>3</th>\n",
       "      <td>1</td>\n",
       "      <td>2</td>\n",
       "      <td>27.053597</td>\n",
       "      <td>5.385147</td>\n",
       "      <td>0.837999</td>\n",
       "      <td>39.771392</td>\n",
       "      <td>60</td>\n",
       "      <td>1</td>\n",
       "      <td>0.659007</td>\n",
       "      <td>0.296743</td>\n",
       "    </tr>\n",
       "    <tr>\n",
       "      <th>4</th>\n",
       "      <td>0</td>\n",
       "      <td>2</td>\n",
       "      <td>23.284114</td>\n",
       "      <td>8.852139</td>\n",
       "      <td>0.548677</td>\n",
       "      <td>60.026682</td>\n",
       "      <td>26</td>\n",
       "      <td>0</td>\n",
       "      <td>0.701360</td>\n",
       "      <td>0.355401</td>\n",
       "    </tr>\n",
       "  </tbody>\n",
       "</table>\n",
       "</div>"
      ],
      "text/plain": [
       "   ruptureStatus_encoded  aneurysmLocation_encoded  \\\n",
       "0                      1                         2   \n",
       "1                      1                         2   \n",
       "2                      1                         2   \n",
       "3                      1                         2   \n",
       "4                      0                         2   \n",
       "\n",
       "   bifurcationAngleOutOfPlane  maxTorsion  tortuosity  neckVesselAngle  age  \\\n",
       "0                    4.719235    3.218984    0.682769        42.579274   53   \n",
       "1                   15.753911    5.330711    1.153133        84.077789   35   \n",
       "2                    9.378066    3.393943    0.804790        43.969651   43   \n",
       "3                   27.053597    5.385147    0.837999        39.771392   60   \n",
       "4                   23.284114    8.852139    0.548677        60.026682   26   \n",
       "\n",
       "   aneurysmType_encoded  ostiumShapeFactor  maxCurvature  \n",
       "0                     0           0.677545      0.513167  \n",
       "1                     0           0.754575      0.532819  \n",
       "2                     1           0.727851      0.299136  \n",
       "3                     1           0.659007      0.296743  \n",
       "4                     0           0.701360      0.355401  "
      ]
     },
     "execution_count": 23,
     "metadata": {},
     "output_type": "execute_result"
    }
   ],
   "source": [
    "X.head()"
   ]
  },
  {
   "cell_type": "code",
   "execution_count": 24,
   "metadata": {},
   "outputs": [
    {
     "data": {
      "text/plain": [
       "(103, 10)"
      ]
     },
     "execution_count": 24,
     "metadata": {},
     "output_type": "execute_result"
    }
   ],
   "source": [
    "X.shape"
   ]
  },
  {
   "cell_type": "code",
   "execution_count": 25,
   "metadata": {},
   "outputs": [
    {
     "data": {
      "text/plain": [
       "(103, 1)"
      ]
     },
     "execution_count": 25,
     "metadata": {},
     "output_type": "execute_result"
    }
   ],
   "source": [
    "y.shape"
   ]
  },
  {
   "cell_type": "code",
   "execution_count": null,
   "metadata": {},
   "outputs": [
    {
     "name": "stdout",
     "output_type": "stream",
     "text": [
      "Original class distribution: Counter({0: 86, 1: 17})\n",
      "New class distribution: Counter({0: 86, 1: 85})\n",
      "Resampled datasets saved as 'X_resampled.csv' and 'y_resampled.csv'\n"
     ]
    }
   ],
   "source": [
    "import pandas as pd\n",
    "from imblearn.over_sampling import SMOTE\n",
    "from collections import Counter\n",
    "\n",
    "# Ensure y is a 1D array\n",
    "y = y.squeeze()\n",
    "\n",
    "# Check class distribution before SMOTE\n",
    "class_counts = Counter(y)\n",
    "minority_class = min(class_counts, key=class_counts.get)\n",
    "majority_class = max(class_counts, key=class_counts.get)\n",
    "\n",
    "print(\"Original class distribution:\", class_counts)\n",
    "\n",
    "# Calculate the target number of minority samples (5x increase)\n",
    "target_minority_count = class_counts[minority_class] * 5\n",
    "sampling_strategy = {minority_class: target_minority_count}\n",
    "\n",
    "# Apply SMOTE with corrected sampling strategy\n",
    "smote = SMOTE(sampling_strategy=sampling_strategy, random_state=42)\n",
    "X_resampled, y_resampled = smote.fit_resample(X, y)\n",
    "\n",
    "# Check class distribution after SMOTE\n",
    "print(\"New class distribution:\", Counter(y_resampled))\n",
    "\n",
    "# Save the new dataset\n",
    "X_resampled.to_csv('X_resampled.csv', index=False)\n",
    "y_resampled.to_csv('y_resampled.csv', index=False)\n",
    "\n",
    "print(\"Resampled datasets saved as 'X_resampled.csv' and 'y_resampled.csv'\")\n"
   ]
  },
  {
   "cell_type": "code",
   "execution_count": 55,
   "metadata": {},
   "outputs": [
    {
     "data": {
      "text/plain": [
       "(171, 10)"
      ]
     },
     "execution_count": 55,
     "metadata": {},
     "output_type": "execute_result"
    }
   ],
   "source": [
    "X_resampled.shape"
   ]
  },
  {
   "cell_type": "code",
   "execution_count": 56,
   "metadata": {},
   "outputs": [
    {
     "data": {
      "text/plain": [
       "(171,)"
      ]
     },
     "execution_count": 56,
     "metadata": {},
     "output_type": "execute_result"
    }
   ],
   "source": [
    "y_resampled.shape"
   ]
  },
  {
   "cell_type": "code",
   "execution_count": 57,
   "metadata": {},
   "outputs": [
    {
     "data": {
      "text/plain": [
       "np.int64(1)"
      ]
     },
     "execution_count": 57,
     "metadata": {},
     "output_type": "execute_result"
    }
   ],
   "source": [
    "y_resampled.unique().sum()"
   ]
  },
  {
   "cell_type": "code",
   "execution_count": 58,
   "metadata": {},
   "outputs": [
    {
     "name": "stdout",
     "output_type": "stream",
     "text": [
      "multipleAneurysms_encoded\n",
      "0    86\n",
      "1    85\n",
      "Name: count, dtype: int64\n"
     ]
    }
   ],
   "source": [
    "print(y_resampled.value_counts())\n"
   ]
  },
  {
   "cell_type": "code",
   "execution_count": 59,
   "metadata": {},
   "outputs": [],
   "source": [
    "from sklearn.model_selection import train_test_split\n",
    "X_train,X_test,y_train,y_test=train_test_split(X_resampled,y_resampled,test_size=0.25,random_state=42)"
   ]
  },
  {
   "cell_type": "code",
   "execution_count": 60,
   "metadata": {},
   "outputs": [
    {
     "name": "stdout",
     "output_type": "stream",
     "text": [
      "              precision    recall  f1-score   support\n",
      "\n",
      "           0       0.67      0.60      0.63        20\n",
      "           1       0.68      0.74      0.71        23\n",
      "\n",
      "    accuracy                           0.67        43\n",
      "   macro avg       0.67      0.67      0.67        43\n",
      "weighted avg       0.67      0.67      0.67        43\n",
      "\n",
      "[[12  8]\n",
      " [ 6 17]]\n",
      "Accuracy: 0.6744186046511628\n"
     ]
    }
   ],
   "source": [
    "from sklearn.metrics import classification_report, confusion_matrix, accuracy_score\n",
    "from sklearn.linear_model import LogisticRegression\n",
    "\n",
    "\n",
    "model = LogisticRegression()\n",
    "model.fit(X_train, y_train) \n",
    "\n",
    "y_pred = model.predict(X_test)\n",
    "\n",
    "\n",
    "print(classification_report(y_test, y_pred))\n",
    "\n",
    "\n",
    "print(confusion_matrix(y_test, y_pred))\n",
    "\n",
    "\n",
    "print(f\"Accuracy: {accuracy_score(y_test, y_pred)}\")\n"
   ]
  },
  {
   "cell_type": "code",
   "execution_count": 61,
   "metadata": {},
   "outputs": [
    {
     "name": "stdout",
     "output_type": "stream",
     "text": [
      "Training LogisticRegression...\n",
      "LogisticRegression Accuracy: 0.6744186046511628\n",
      "              precision    recall  f1-score   support\n",
      "\n",
      "           0       0.67      0.60      0.63        20\n",
      "           1       0.68      0.74      0.71        23\n",
      "\n",
      "    accuracy                           0.67        43\n",
      "   macro avg       0.67      0.67      0.67        43\n",
      "weighted avg       0.67      0.67      0.67        43\n",
      "\n",
      "[[12  8]\n",
      " [ 6 17]]\n",
      "------------------------------\n",
      "Training DecisionTreeClassifier...\n",
      "DecisionTreeClassifier Accuracy: 0.7441860465116279\n",
      "              precision    recall  f1-score   support\n",
      "\n",
      "           0       0.74      0.70      0.72        20\n",
      "           1       0.75      0.78      0.77        23\n",
      "\n",
      "    accuracy                           0.74        43\n",
      "   macro avg       0.74      0.74      0.74        43\n",
      "weighted avg       0.74      0.74      0.74        43\n",
      "\n",
      "[[14  6]\n",
      " [ 5 18]]\n",
      "------------------------------\n",
      "Training RandomForestClassifier...\n",
      "RandomForestClassifier Accuracy: 0.8372093023255814\n",
      "              precision    recall  f1-score   support\n",
      "\n",
      "           0       0.84      0.80      0.82        20\n",
      "           1       0.83      0.87      0.85        23\n",
      "\n",
      "    accuracy                           0.84        43\n",
      "   macro avg       0.84      0.83      0.84        43\n",
      "weighted avg       0.84      0.84      0.84        43\n",
      "\n",
      "[[16  4]\n",
      " [ 3 20]]\n",
      "------------------------------\n",
      "Training SVC...\n",
      "SVC Accuracy: 0.46511627906976744\n",
      "              precision    recall  f1-score   support\n",
      "\n",
      "           0       0.43      0.50      0.47        20\n",
      "           1       0.50      0.43      0.47        23\n",
      "\n",
      "    accuracy                           0.47        43\n",
      "   macro avg       0.47      0.47      0.47        43\n",
      "weighted avg       0.47      0.47      0.47        43\n",
      "\n",
      "[[10 10]\n",
      " [13 10]]\n",
      "------------------------------\n",
      "Training KNeighborsClassifier...\n",
      "KNeighborsClassifier Accuracy: 0.7209302325581395\n",
      "              precision    recall  f1-score   support\n",
      "\n",
      "           0       0.83      0.50      0.62        20\n",
      "           1       0.68      0.91      0.78        23\n",
      "\n",
      "    accuracy                           0.72        43\n",
      "   macro avg       0.76      0.71      0.70        43\n",
      "weighted avg       0.75      0.72      0.71        43\n",
      "\n",
      "[[10 10]\n",
      " [ 2 21]]\n",
      "------------------------------\n",
      "Training GaussianNB...\n",
      "GaussianNB Accuracy: 0.627906976744186\n",
      "              precision    recall  f1-score   support\n",
      "\n",
      "           0       0.59      0.65      0.62        20\n",
      "           1       0.67      0.61      0.64        23\n",
      "\n",
      "    accuracy                           0.63        43\n",
      "   macro avg       0.63      0.63      0.63        43\n",
      "weighted avg       0.63      0.63      0.63        43\n",
      "\n",
      "[[13  7]\n",
      " [ 9 14]]\n",
      "------------------------------\n"
     ]
    }
   ],
   "source": [
    "from sklearn.preprocessing import StandardScaler, LabelEncoder\n",
    "from sklearn.linear_model import LogisticRegression\n",
    "from sklearn.tree import DecisionTreeClassifier\n",
    "from sklearn.ensemble import RandomForestClassifier\n",
    "from sklearn.svm import SVC\n",
    "from sklearn.neighbors import KNeighborsClassifier\n",
    "from sklearn.naive_bayes import GaussianNB\n",
    "from sklearn.metrics import classification_report, confusion_matrix, accuracy_score\n",
    "\n",
    "# Define a list of classifiers\n",
    "classifiers = [\n",
    "    LogisticRegression(),\n",
    "    DecisionTreeClassifier(),\n",
    "    RandomForestClassifier(),\n",
    "    SVC(),\n",
    "    KNeighborsClassifier(),\n",
    "    GaussianNB()\n",
    "]\n",
    "\n",
    "# Train and evaluate each classifier\n",
    "for clf in classifiers:\n",
    "    clf_name = clf.__class__.__name__\n",
    "    print(f\"Training {clf_name}...\")\n",
    "    clf.fit(X_train, y_train)\n",
    "    y_pred = clf.predict(X_test)\n",
    "    accuracy = accuracy_score(y_test, y_pred)\n",
    "    print(f\"{clf_name} Accuracy: {accuracy}\")\n",
    "    print(classification_report(y_test,y_pred))\n",
    "    print(confusion_matrix(y_test,y_pred))\n",
    "    print(\"-\" * 30)\n"
   ]
  },
  {
   "cell_type": "code",
   "execution_count": null,
   "metadata": {},
   "outputs": [],
   "source": []
  }
 ],
 "metadata": {
  "kernelspec": {
   "display_name": "Python 3",
   "language": "python",
   "name": "python3"
  },
  "language_info": {
   "codemirror_mode": {
    "name": "ipython",
    "version": 3
   },
   "file_extension": ".py",
   "mimetype": "text/x-python",
   "name": "python",
   "nbconvert_exporter": "python",
   "pygments_lexer": "ipython3",
   "version": "3.10.16"
  }
 },
 "nbformat": 4,
 "nbformat_minor": 2
}
